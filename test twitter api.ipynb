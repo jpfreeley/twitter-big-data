{
 "cells": [
  {
   "cell_type": "code",
   "execution_count": 6,
   "metadata": {},
   "outputs": [],
   "source": [
    "import twitterkeys as tk"
   ]
  },
  {
   "cell_type": "code",
   "execution_count": 7,
   "metadata": {},
   "outputs": [
    {
     "name": "stdout",
     "output_type": "stream",
     "text": [
      "Teams hacking with us this weekend are exploring opportunities to make education more inclusive for students with A… https://t.co/cCiBCetenO\n",
      "#Switzerland can be eye-wateringly expensive and it’s easy to empty your wallet in #Zürich without too much effort… https://t.co/kTIY5fk7ZD\n",
      "UN Security Council unanimously approves resolution demanding a 30-day ceasefire in Syria https://t.co/GcVWKidaFS\n",
      "Jordanians take great pride in being religiously tolerant and culturally open, so many of the country's mosques are… https://t.co/Hfna6gQYjL\n",
      "As part of #InclusiveEducation month, a few dozen software engineers, designers and project managers from Vancouver… https://t.co/B7IS6ORiAr\n",
      "SCO 25 ENG 13 THIS CANNOT BE HAPPENING BUT IT IS #AsOne\n",
      "It is time to give rural communities the quality infrastructure they need in order to grow and thrive. More:… https://t.co/XrMOVEkApH\n",
      "Looking at the world in a different way to everyone else is a strength and should be praised and encouraged… https://t.co/u5VBUGw9uy\n",
      "He still won't let me express myself freely. Sco 22 Eng 'just shout it, there's no need to tweet it'\n",
      "Found by our writer in France - soaps in all the colours of the rainbow! RT @thewideopenroad: Rainbow of Provençal… https://t.co/DA2Tdgytvf\n",
      "Wow us with an amazing travel image for your chance to be on the cover of @NatGeoTravel magazine. Check out The Tri… https://t.co/0fTYuvDgvx\n",
      "Anyone for a swim? 😳 ❄️ 📸 Antoine Janssens in Switzerland https://t.co/tE6DTa0XVb\n",
      "My husband just told me I wasn't allowed to tweet what I wanted to tweet. Sco 22 Eng 13\n",
      "Second half begins #praying https://t.co/LhaKBiBNYG\n",
      "Sco 22 Eng 6\n",
      "FzmhtzmrgMgdzktezkyd\n",
      "You have to understand, non-rugby followers, that @Scotlandteam are the underdogs here! #AsOne\n",
      "RT @earthhour: 24 Feb marks #TortillaChipDay! As you munch on your favourite snack, discover more about what goes into it! Plus, find out h…\n",
      "OMFG Sco 15 Eng 6\n",
      "People today are living longer, healthier, and happier lives than ever before. I asked @sapinker to explain why. https://t.co/697JymQI5p\n"
     ]
    }
   ],
   "source": [
    "import tweepy\n",
    "\n",
    "auth = tweepy.OAuthHandler(tk.consumer_key, tk.consumer_secret)\n",
    "auth.set_access_token(tk.access_token, tk.access_token_secret)\n",
    "\n",
    "api = tweepy.API(auth)\n",
    "\n",
    "public_tweets = api.home_timeline()\n",
    "for tweet in public_tweets:\n",
    "    print tweet.text"
   ]
  }
 ],
 "metadata": {
  "kernelspec": {
   "display_name": "Python 2",
   "language": "python",
   "name": "python2"
  },
  "language_info": {
   "codemirror_mode": {
    "name": "ipython",
    "version": 2
   },
   "file_extension": ".py",
   "mimetype": "text/x-python",
   "name": "python",
   "nbconvert_exporter": "python",
   "pygments_lexer": "ipython2",
   "version": "2.7.14"
  }
 },
 "nbformat": 4,
 "nbformat_minor": 2
}
